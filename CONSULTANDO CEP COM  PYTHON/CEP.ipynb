{
 "cells": [
  {
   "cell_type": "code",
   "execution_count": 8,
   "id": "1e37402b",
   "metadata": {},
   "outputs": [
    {
     "name": "stdout",
     "output_type": "stream",
     "text": [
      "CONSUNTADO CEP ATRAVÉS DE UMA API:\n",
      "\n",
      "\n",
      "Digite o CEP para a consulta:14404110\n",
      "\n",
      "O CEP PESQUISADO FOI ENCONTRADO! SEGUE DETALHES ABAIXO:\n",
      "\n",
      "CEP: 14404-110\n",
      "Logradouro: Avenida Gabriela de Almeida Pirajá\n",
      "Complemento: \n",
      "Bairro: Jardim Aeroporto II\n",
      "Cidade: Franca\n",
      "Estado: SP\n",
      "---------------------------------\n",
      "Deseja realizar uma nova consulta ?\n",
      "1. Sim\n",
      "2. Sair\n",
      "2\n",
      "Saindo...\n"
     ]
    }
   ],
   "source": [
    "import requests # IMPORTANDO BIBLIOTÉCA NECESSÁRIA PARA CONSUMIR UMA API UTILIZANDO O REQUEST\n",
    "\n",
    "\n",
    "def main():\n",
    "\tprint('CONSUNTADO CEP ATRAVÉS DE UMA API:\\n')\n",
    "\tprint()\n",
    "\n",
    "\tcep_input = input('Digite o CEP para a consulta:') # IMPUT DO CEP\n",
    "    \n",
    "#VALIDAÇÃO, CASO O NÚMERO INSERIDO  NO IMPUT ACIMA SEJA DIFERENTE DE 8, IRÁ RETORNAR UMA MENSAGEM DE ERRO:\n",
    "\n",
    "\tif len(cep_input) != 8:\n",
    "\t\tprint('Quantidade de dígitos inválido!, por favor, validar!')\n",
    "\t\texit()\n",
    "\n",
    "\trequest = requests.get('https://viacep.com.br/ws/{}/json/'.format(cep_input)) # FAZENDO UMA REQUISIÇÃO NA API\n",
    "\n",
    "\taddress_data = request.json()\n",
    "\n",
    "\tif 'erro' not in address_data:\n",
    "\t\tprint(\"\")\n",
    "\t\tprint('O CEP PESQUISADO FOI ENCONTRADO! SEGUE DETALHES ABAIXO:')\n",
    "\t\tprint(\"\")\n",
    "\t\tprint('CEP: {}'.format(address_data['cep']))\n",
    "\t\tprint('Logradouro: {}'.format(address_data['logradouro']))\n",
    "\t\tprint('Complemento: {}'.format(address_data['complemento']))\n",
    "\t\tprint('Bairro: {}'.format(address_data['bairro']))\n",
    "\t\tprint('Cidade: {}'.format(address_data['localidade']))\n",
    "\t\tprint('Estado: {}'.format(address_data['uf']))\n",
    "\t\t\n",
    "\telse:\n",
    "\t\tprint('{}: CEP inválido! Por favor, tente novamente.'.format(cep_input))\n",
    "\n",
    "\tprint('---------------------------------')\n",
    "\toption = int(input('Deseja realizar uma nova consulta ?\\n1. Sim\\n2. Sair\\n'))\n",
    "\tif option == 1:\n",
    "\t\tmain()\n",
    "\telse:\n",
    "\t\tprint('Saindo...')\n",
    "\n",
    "if __name__ == '__main__':\n",
    "\tmain()"
   ]
  }
 ],
 "metadata": {
  "kernelspec": {
   "display_name": "Python 3 (ipykernel)",
   "language": "python",
   "name": "python3"
  },
  "language_info": {
   "codemirror_mode": {
    "name": "ipython",
    "version": 3
   },
   "file_extension": ".py",
   "mimetype": "text/x-python",
   "name": "python",
   "nbconvert_exporter": "python",
   "pygments_lexer": "ipython3",
   "version": "3.9.7"
  }
 },
 "nbformat": 4,
 "nbformat_minor": 5
}
